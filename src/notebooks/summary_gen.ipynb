{
 "cells": [
  {
   "cell_type": "code",
   "execution_count": null,
   "metadata": {},
   "outputs": [],
   "source": [
    "import pandas as pd\n",
    "import transformers\n",
    "import ast\n",
    "import torch"
   ]
  },
  {
   "cell_type": "code",
   "execution_count": null,
   "metadata": {},
   "outputs": [],
   "source": [
    "# data loading\n",
    "data = pd.read_csv('data/sequences_topics_sentiment.csv')\n",
    "topic_representation = pd.read_csv('data/topic_info.csv')"
   ]
  },
  {
   "cell_type": "code",
   "execution_count": null,
   "metadata": {},
   "outputs": [],
   "source": [
    "avg_sentiment = data.groupby('topic_id')['sentiment'].mean()\n",
    "print(avg_sentiment)"
   ]
  },
  {
   "cell_type": "code",
   "execution_count": null,
   "metadata": {},
   "outputs": [],
   "source": [
    "prompt = (\n",
    "        \"The following are topics detected in reviews by users. Give me a short summary of what the reviews \"\n",
    "        \"say about the product using the following information. Don't use numerical data, just give me a summary of a few lines.:\\n\\n\"\n",
    "    )"
   ]
  },
  {
   "cell_type": "code",
   "execution_count": null,
   "metadata": {},
   "outputs": [],
   "source": [
    " # construct the final prompt using the topics representative words and the most positive and negative sequences\n",
    "for topic_id in data['topic_id'].unique():\n",
    "    # filtering\n",
    "    topic_data = data[data['topic_id'] == topic_id]\n",
    "    topic_keywords_str = topic_representation.loc[topic_representation['Topic'] == topic_id].iloc[0, 3]\n",
    "    topic_keywords = ast.literal_eval(topic_keywords_str) if isinstance(topic_keywords_str, str) else topic_keywords_str\n",
    "        \n",
    "    # get the most positive and most negative sentences\n",
    "    positive_sequence = topic_data.loc[topic_data['sentiment'].idxmax()]['sequence']\n",
    "    negative_sequence = topic_data.loc[topic_data['sentiment'].idxmin()]['sequence']\n",
    "\n",
    "    # get the average sentiment score\n",
    "    avg_sentiment_score = avg_sentiment[topic_id]\n",
    "\n",
    "    # add each topic info to the prompt\n",
    "    prompt += (\n",
    "        f\"* Topic {topic_id}. Representative words = {', '.join(topic_keywords)}\\n\"\n",
    "        f\"  - Average sentiment score: {avg_sentiment_score:.4f}\\n\"\n",
    "        f\"  - Most negative sentence: {negative_sequence}\\n\"\n",
    "        f\"  - Most positive sentence: {positive_sequence}\\n\\n\"\n",
    "    )"
   ]
  },
  {
   "cell_type": "code",
   "execution_count": null,
   "metadata": {},
   "outputs": [],
   "source": [
    "messages = [\n",
    "{\"role\": \"system\", \"content\": \"You are a review summarizer, specialized in summerizing reviews about a serger sewing machine. You are going to help the user decide whether to buy a serger sewing machine or not. In order to do this, you will use topics identified in the reviews and the sentiment analysis of each topic, plus, the most negative and positive comment.. The sentiment analysis score goes from -1 to 1 (worst to best)\"},\n",
    "{\"role\": \"user\", \"content\": prompt}\n",
    "]"
   ]
  },
  {
   "cell_type": "code",
   "execution_count": null,
   "metadata": {},
   "outputs": [],
   "source": [
    "model_id = \"meta-llama/Llama-3.2-1B-Instruct\" \n",
    "\n",
    "if  torch.cuda.is_available():\n",
    "    device = \"cuda\"\n",
    "else:\n",
    "    raise ValueError(\"No se reconoció GPU.\")\n",
    "\n",
    "pipeline = transformers.pipeline(\n",
    "\t\"text-generation\", \n",
    "\tmodel=model_id,\n",
    "\tmodel_kwargs={\"torch_dtype\": torch.bfloat16},\n",
    "\tdevice=device\n",
    ")"
   ]
  },
  {
   "cell_type": "code",
   "execution_count": null,
   "metadata": {},
   "outputs": [],
   "source": [
    "output = pipeline(messages, max_new_tokens=500)"
   ]
  },
  {
   "cell_type": "code",
   "execution_count": null,
   "metadata": {},
   "outputs": [],
   "source": [
    "assistant_content = output[0]['generated_text'][2]['content']\n",
    "print(assistant_content)"
   ]
  }
 ],
 "metadata": {
  "kernelspec": {
   "display_name": "Python (textmining)",
   "language": "python",
   "name": "textmining"
  },
  "language_info": {
   "codemirror_mode": {
    "name": "ipython",
    "version": 3
   },
   "file_extension": ".py",
   "mimetype": "text/x-python",
   "name": "python",
   "nbconvert_exporter": "python",
   "pygments_lexer": "ipython3",
   "version": "3.12.3"
  }
 },
 "nbformat": 4,
 "nbformat_minor": 4
}
